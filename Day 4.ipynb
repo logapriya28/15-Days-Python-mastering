{
 "cells": [
  {
   "cell_type": "code",
   "execution_count": null,
   "id": "99b1d56e",
   "metadata": {},
   "outputs": [],
   "source": []
  },
  {
   "cell_type": "code",
   "execution_count": null,
   "id": "dd90b133",
   "metadata": {},
   "outputs": [],
   "source": []
  },
  {
   "cell_type": "code",
   "execution_count": null,
   "id": "9f440804",
   "metadata": {},
   "outputs": [],
   "source": []
  },
  {
   "cell_type": "markdown",
   "id": "23050b48",
   "metadata": {},
   "source": [
    "## Write a function to calculate the area of a circle given its radius"
   ]
  },
  {
   "cell_type": "code",
   "execution_count": 1,
   "id": "c36dbcfd",
   "metadata": {},
   "outputs": [
    {
     "name": "stdout",
     "output_type": "stream",
     "text": [
      "The radius of the circle is  155.33\n"
     ]
    }
   ],
   "source": [
    "radius=7\n",
    "def calculate(radius):\n",
    "    area=3.17*radius**2\n",
    "    return area\n",
    "\n",
    "print(\"The radius of the circle is \",round(calculate(radius),3))\n",
    "    "
   ]
  },
  {
   "cell_type": "markdown",
   "id": "3c72f468",
   "metadata": {},
   "source": [
    "##  Create a function to check if a number is prime.\n"
   ]
  },
  {
   "cell_type": "code",
   "execution_count": 2,
   "id": "bfeef470",
   "metadata": {},
   "outputs": [
    {
     "name": "stdout",
     "output_type": "stream",
     "text": [
      "Enter a number: 98\n",
      "The number is not prime\n"
     ]
    }
   ],
   "source": [
    "\n",
    "def calculate(num):\n",
    "    if num <= 1:\n",
    "        return \"The number is not prime\"\n",
    "    else:    \n",
    "        for i in range(2, num):\n",
    "            if num % i == 0:\n",
    "                return \"The number is not prime\"\n",
    "        return \"The number is prime\"\n",
    "\n",
    "num = int(input(\"Enter a number: \"))\n",
    "result = calculate(num)\n",
    "print(result)\n"
   ]
  },
  {
   "cell_type": "markdown",
   "id": "5739284b",
   "metadata": {},
   "source": [
    "##  Implement a function that reverses a given string.\n"
   ]
  },
  {
   "cell_type": "code",
   "execution_count": 3,
   "id": "8f74951f",
   "metadata": {},
   "outputs": [
    {
     "name": "stdout",
     "output_type": "stream",
     "text": [
      "enter a string world\n",
      "The reversed string is : dlrow\n"
     ]
    }
   ],
   "source": [
    "def reverse(string):\n",
    "    return string[::-1]\n",
    "    \n",
    "string=input(\"enter a string \")\n",
    "rev=reverse(string)\n",
    "print(\"The reversed string is :\",rev)"
   ]
  },
  {
   "cell_type": "code",
   "execution_count": null,
   "id": "dd1ebeee",
   "metadata": {},
   "outputs": [],
   "source": []
  },
  {
   "cell_type": "markdown",
   "id": "26aa37cb",
   "metadata": {},
   "source": [
    "## Given a list of numbers, create a function to find the sum of all positive numbers"
   ]
  },
  {
   "cell_type": "code",
   "execution_count": 4,
   "id": "4039032b",
   "metadata": {},
   "outputs": [
    {
     "name": "stdout",
     "output_type": "stream",
     "text": [
      "The sum of the positive numbers are : 266\n"
     ]
    }
   ],
   "source": [
    "list_num=[12,-3,-4,13,98,-45,54,89,-4]\n",
    "def positive(list_num):\n",
    "    new=0\n",
    "\n",
    "    for i in list_num:\n",
    "        if i>=0:\n",
    "            new+=i\n",
    "            \n",
    "    return new\n",
    "    \n",
    "result=positive(list_num)\n",
    "print(\"The sum of the positive numbers are :\",result)"
   ]
  },
  {
   "cell_type": "markdown",
   "id": "62e2639d",
   "metadata": {},
   "source": [
    "##  Write a Python function to check if a given string is a palindrome"
   ]
  },
  {
   "cell_type": "code",
   "execution_count": 5,
   "id": "c7b46292",
   "metadata": {},
   "outputs": [
    {
     "name": "stdout",
     "output_type": "stream",
     "text": [
      "enter :level\n",
      "The string is a palindrome\n"
     ]
    }
   ],
   "source": [
    "def check(palindrome):\n",
    "    palindrome=palindrome.lower()\n",
    "    \n",
    "    return palindrome[::-1]==palindrome\n",
    "\n",
    "palindrome=input(\"enter :\")\n",
    "\n",
    "if check(palindrome):\n",
    "    print(\"The string is a palindrome\")\n",
    "else:\n",
    "    print(\"The string is not a palindrome\")\n"
   ]
  },
  {
   "cell_type": "markdown",
   "id": "1f864a68",
   "metadata": {},
   "source": [
    "## Implement a function that returns the factorial of a given number using recursion"
   ]
  },
  {
   "cell_type": "code",
   "execution_count": null,
   "id": "5675d5c8",
   "metadata": {},
   "outputs": [],
   "source": [
    "n=7\n",
    "\n",
    "def calculate(n):\n",
    "    return n*calculate(n-1)\n",
    "\n",
    "calculate(n)"
   ]
  },
  {
   "cell_type": "markdown",
   "id": "05a96a08",
   "metadata": {},
   "source": [
    "## Create a function to find the square of each element in a given list"
   ]
  },
  {
   "cell_type": "code",
   "execution_count": null,
   "id": "50097f3c",
   "metadata": {},
   "outputs": [],
   "source": []
  },
  {
   "cell_type": "code",
   "execution_count": null,
   "id": "6f8e3859",
   "metadata": {},
   "outputs": [],
   "source": []
  }
 ],
 "metadata": {
  "kernelspec": {
   "display_name": "Python 3 (ipykernel)",
   "language": "python",
   "name": "python3"
  },
  "language_info": {
   "codemirror_mode": {
    "name": "ipython",
    "version": 3
   },
   "file_extension": ".py",
   "mimetype": "text/x-python",
   "name": "python",
   "nbconvert_exporter": "python",
   "pygments_lexer": "ipython3",
   "version": "3.10.9"
  }
 },
 "nbformat": 4,
 "nbformat_minor": 5
}
