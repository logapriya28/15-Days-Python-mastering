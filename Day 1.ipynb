{
 "cells": [
  {
   "cell_type": "markdown",
   "id": "d8a6f04c",
   "metadata": {},
   "source": [
    "# Day 1"
   ]
  },
  {
   "cell_type": "markdown",
   "id": "9d3ede6f",
   "metadata": {},
   "source": [
    "### 1. Write a Python program to print \"Hello, World!\""
   ]
  },
  {
   "cell_type": "code",
   "execution_count": 62,
   "id": "8844d22b",
   "metadata": {},
   "outputs": [
    {
     "name": "stdout",
     "output_type": "stream",
     "text": [
      "Hello,World!\n"
     ]
    }
   ],
   "source": [
    "print(\"Hello,World!\")"
   ]
  },
  {
   "cell_type": "markdown",
   "id": "7a1cb77d",
   "metadata": {},
   "source": [
    "\n",
    "##### This is a simple method for printing an output."
   ]
  },
  {
   "cell_type": "code",
   "execution_count": 63,
   "id": "081614c7",
   "metadata": {},
   "outputs": [
    {
     "name": "stdout",
     "output_type": "stream",
     "text": [
      "\"Hello world!\"\n"
     ]
    }
   ],
   "source": [
    "print(\"\\\"Hello world!\\\"\")"
   ]
  },
  {
   "cell_type": "markdown",
   "id": "538a44fd",
   "metadata": {},
   "source": [
    "##### Here \" / \" is used as we need the \" \" in the output as well . The Backslash is an escape character. It indicates that the character following it should be treated specially."
   ]
  },
  {
   "cell_type": "code",
   "execution_count": null,
   "id": "ed313f1b",
   "metadata": {},
   "outputs": [],
   "source": []
  },
  {
   "cell_type": "code",
   "execution_count": 64,
   "id": "62e88a59",
   "metadata": {},
   "outputs": [
    {
     "name": "stdout",
     "output_type": "stream",
     "text": [
      "Hello,world!\n"
     ]
    }
   ],
   "source": [
    "a=\"Hello,world!\"\n",
    "print(a)"
   ]
  },
  {
   "cell_type": "markdown",
   "id": "6a00da08",
   "metadata": {},
   "source": [
    "###### Here the string \" hello, world! \" is stored in a variable ' a ' "
   ]
  },
  {
   "cell_type": "markdown",
   "id": "6047dbfe",
   "metadata": {},
   "source": [
    "#### 2. Calculate the sum of two numbers entered by the user"
   ]
  },
  {
   "cell_type": "code",
   "execution_count": 65,
   "id": "3d4665e5",
   "metadata": {},
   "outputs": [
    {
     "name": "stdout",
     "output_type": "stream",
     "text": [
      "Enter a number,b :2\n",
      "Enter a number,c :3\n",
      "The sum of 2 and 3 is 5\n"
     ]
    }
   ],
   "source": [
    "b=int(input(\"Enter a number,b :\"))\n",
    "c=int(input(\"Enter a number,c :\"))\n",
    "result=b+c\n",
    "print(f\"The sum of {b} and {c} is {result}\")"
   ]
  },
  {
   "cell_type": "markdown",
   "id": "1a108381",
   "metadata": {},
   "source": []
  },
  {
   "cell_type": "code",
   "execution_count": 66,
   "id": "24a1e80a",
   "metadata": {},
   "outputs": [
    {
     "name": "stdout",
     "output_type": "stream",
     "text": [
      "Enter numbers seperated by space: 23 45 12 98 45\n",
      "223\n"
     ]
    }
   ],
   "source": [
    "user_input=input(\"Enter numbers seperated by space: \")\n",
    "numbers=[int(num) for num in user_input.split( )]\n",
    "total=sum(numbers)\n",
    "print(total)"
   ]
  },
  {
   "cell_type": "markdown",
   "id": "a83c5d1b",
   "metadata": {},
   "source": [
    "#### 3. Convert temperature from Celsius to Fahrenheit."
   ]
  },
  {
   "cell_type": "code",
   "execution_count": 67,
   "id": "9b6df914",
   "metadata": {},
   "outputs": [
    {
     "name": "stdout",
     "output_type": "stream",
     "text": [
      "Enter the celsius :45\n",
      "113.0\n"
     ]
    }
   ],
   "source": [
    "celsius=float(input(\"Enter the celsius :\"))\n",
    "fah=(9/5)*celsius +32\n",
    "print(fah)"
   ]
  },
  {
   "cell_type": "code",
   "execution_count": 68,
   "id": "a320fe27",
   "metadata": {},
   "outputs": [
    {
     "name": "stdout",
     "output_type": "stream",
     "text": [
      "Enter the celsius :-1.8\n",
      "28.759999999999998\n"
     ]
    }
   ],
   "source": [
    "fahren=lambda cel :(9/5)*cel +32\n",
    "cel=float(input(\"Enter the celsius :\"))\n",
    "print(fahren(cel))"
   ]
  },
  {
   "cell_type": "markdown",
   "id": "a7f3a49c",
   "metadata": {},
   "source": [
    "#### Write a Python program to calculate the area of a rectangle given its length and width"
   ]
  },
  {
   "cell_type": "code",
   "execution_count": 69,
   "id": "9ce06882",
   "metadata": {},
   "outputs": [
    {
     "name": "stdout",
     "output_type": "stream",
     "text": [
      "Enter the length of the rectangle :34\n",
      "Entre the breadth of the rectangle :2\n",
      "Area of the Rectangle is 72.0\n"
     ]
    }
   ],
   "source": [
    "Length=float(input(\"Enter the length of the rectangle :\"))\n",
    "Breadth= float(input(\"Entre the breadth of the rectangle :\"))\n",
    "Area=2*(Length+Breadth)\n",
    "print(\"Area of the Rectangle is \"+ str(Area))"
   ]
  },
  {
   "cell_type": "markdown",
   "id": "457946b9",
   "metadata": {},
   "source": [
    "#### Create a program that takes a user's name and age as input and prints a greeting message "
   ]
  },
  {
   "cell_type": "code",
   "execution_count": 70,
   "id": "227575bd",
   "metadata": {},
   "outputs": [
    {
     "name": "stdout",
     "output_type": "stream",
     "text": [
      "Enter your name :Priya\n",
      "Enter your age :23\n",
      "Hey Priya, Welcome to the website\n"
     ]
    }
   ],
   "source": [
    "name =input(\"Enter your name :\")\n",
    "age=int(input(\"Enter your age :\"))\n",
    "print(f\"Hey {name}, Welcome to the website\" )"
   ]
  },
  {
   "cell_type": "markdown",
   "id": "62f51630",
   "metadata": {},
   "source": [
    "#### Write a program to check if a number is even or odd "
   ]
  },
  {
   "cell_type": "code",
   "execution_count": 71,
   "id": "a944a40c",
   "metadata": {},
   "outputs": [
    {
     "name": "stdout",
     "output_type": "stream",
     "text": [
      "Enter a number :56\n",
      "The number 56 is even\n"
     ]
    }
   ],
   "source": [
    "even_odd=int(input(\"Enter a number :\"))\n",
    "if even_odd %2==0:\n",
    "    print(f\"The number {even_odd} is even\")\n",
    "else:\n",
    "    print(f\"The number {even_odd} is odd\")"
   ]
  },
  {
   "cell_type": "markdown",
   "id": "b0d742f8",
   "metadata": {},
   "source": [
    " #### Given a list of numbers, find the maximum and minimum values"
   ]
  },
  {
   "cell_type": "code",
   "execution_count": 72,
   "id": "1c94d528",
   "metadata": {},
   "outputs": [
    {
     "name": "stdout",
     "output_type": "stream",
     "text": [
      "Enter the numbers seperated by space :34 90 45 0 34\n",
      "The Minimum value in the list is 0\n",
      "The Minimum value in the list is 90\n"
     ]
    }
   ],
   "source": [
    "number_input=input(\"Enter the numbers seperated by space :\")\n",
    "num_list=number_input.split( )\n",
    "numbers=[int(num) for num in num_list]\n",
    "print(\"The Minimum value in the list is \"+ str(min(numbers)))\n",
    "print (\"The Minimum value in the list is \"+ str(max(numbers)))"
   ]
  },
  {
   "cell_type": "markdown",
   "id": "3b381657",
   "metadata": {},
   "source": [
    "#### Create a Python function to check if a given string is a palindrome "
   ]
  },
  {
   "cell_type": "code",
   "execution_count": 73,
   "id": "df761c7d",
   "metadata": {},
   "outputs": [
    {
     "name": "stdout",
     "output_type": "stream",
     "text": [
      "Enter a string :madam\n",
      "The string you entrered is a Palindrome\n"
     ]
    }
   ],
   "source": [
    "str_input=input(\"Enter a string :\")\n",
    "if str_input[::-1]==str_input:\n",
    "    print(\"The string you entrered is a Palindrome\")\n",
    "else:\n",
    "    print(\"The string you entered is not a palindrome\")\n",
    "    \n"
   ]
  },
  {
   "cell_type": "markdown",
   "id": "aaf3d8e1",
   "metadata": {},
   "source": [
    "#### Calculate the compound interest for a given principal amount, interest rate, and time period "
   ]
  },
  {
   "cell_type": "code",
   "execution_count": 74,
   "id": "25d38ebe",
   "metadata": {},
   "outputs": [
    {
     "name": "stdout",
     "output_type": "stream",
     "text": [
      "Enter the Principal :1000\n",
      "Enter the interest rate :4\n",
      "Enter the number of times interest applied per time period :12\n",
      "Enter the number of time (in years):3\n",
      "compound interest : 127.27\n"
     ]
    }
   ],
   "source": [
    "def compound(p,rate,n,t):\n",
    "    r=rate/100\n",
    "    amt=p*(1+r/n)**(n*t)\n",
    "    interest= amt-p\n",
    "    return interest\n",
    "\n",
    "p=int(input(\"Enter the Principal :\"))\n",
    "rate=float(input(\"Enter the interest rate :\"))\n",
    "n=int(input(\"Enter the number of times interest applied per time period :\"))\n",
    "t=float(input(\"Enter the number of time (in years):\"))\n",
    "interest_rate=compound(p,rate,n,t)\n",
    "print(\"compound interest :\",round(interest_rate,2))"
   ]
  },
  {
   "cell_type": "markdown",
   "id": "d7b10f5c",
   "metadata": {},
   "source": [
    "#### Write a program that converts a given number of days into years, weeks, and day"
   ]
  },
  {
   "cell_type": "code",
   "execution_count": 75,
   "id": "ef96cd70",
   "metadata": {},
   "outputs": [
    {
     "name": "stdout",
     "output_type": "stream",
     "text": [
      "enter the number of days :456\n",
      "This is equal to 1 years, 13 week and 0 days\n"
     ]
    }
   ],
   "source": [
    "def year(days):\n",
    "    years=days//365\n",
    "    week=(days % 365)//7\n",
    "    day=(days % 365)%7\n",
    "    return years,week,day\n",
    "\n",
    "days=int(input(\"enter the number of days :\"))\n",
    "\n",
    "years,week,day=year(days)\n",
    "print(f\"This is equal to {years} years, {week} week and {day} days\")\n"
   ]
  },
  {
   "cell_type": "markdown",
   "id": "2dbb3747",
   "metadata": {},
   "source": [
    "#### Given a list of integers, find the sum of all positive numbers "
   ]
  },
  {
   "cell_type": "code",
   "execution_count": 76,
   "id": "2b676df0",
   "metadata": {},
   "outputs": [
    {
     "name": "stdout",
     "output_type": "stream",
     "text": [
      "The sum of the Positive numbers is  178\n"
     ]
    }
   ],
   "source": [
    "nums=[-12,22,-34,-5,-1,0,56,100]\n",
    "s=0\n",
    "for i in nums:\n",
    "    if i>=0:\n",
    "        s+=i\n",
    "print(\"The sum of the Positive numbers is \",s)\n",
    "        "
   ]
  },
  {
   "cell_type": "markdown",
   "id": "b1b2f6a6",
   "metadata": {},
   "source": [
    "#### Create a program that takes a sentence as input and counts the number of words in it"
   ]
  },
  {
   "cell_type": "code",
   "execution_count": 77,
   "id": "50099a8e",
   "metadata": {},
   "outputs": [
    {
     "name": "stdout",
     "output_type": "stream",
     "text": [
      "Enter a sentence :Python is a high level programming language\n",
      "7\n"
     ]
    }
   ],
   "source": [
    "sentence=input(\"Enter a sentence :\")\n",
    "word_count=sentence.split( )\n",
    "print(len(word_count))"
   ]
  },
  {
   "cell_type": "markdown",
   "id": "d4ab491d",
   "metadata": {},
   "source": [
    "#### Implement a program that swaps the values of two variables."
   ]
  },
  {
   "cell_type": "code",
   "execution_count": 79,
   "id": "be87d776",
   "metadata": {},
   "outputs": [
    {
     "name": "stdout",
     "output_type": "stream",
     "text": [
      "Enter a number,a :23\n",
      "Enter a number,b :90\n",
      "values before swapping : 23 90\n",
      "swapped values : (90, 23)\n"
     ]
    }
   ],
   "source": [
    "def swap_values(a, b):\n",
    "    return b, a\n",
    "a=int(input(\"Enter a number,a :\"))\n",
    "b=int(input(\"Enter a number,b :\"))\n",
    "\n",
    "print(\"values before swapping :\",a,b)\n",
    "swap=swap_values(a,b)\n",
    "print(\"swapped values :\",swap)"
   ]
  },
  {
   "cell_type": "code",
   "execution_count": null,
   "id": "8e93b845",
   "metadata": {},
   "outputs": [],
   "source": []
  }
 ],
 "metadata": {
  "kernelspec": {
   "display_name": "Python 3 (ipykernel)",
   "language": "python",
   "name": "python3"
  },
  "language_info": {
   "codemirror_mode": {
    "name": "ipython",
    "version": 3
   },
   "file_extension": ".py",
   "mimetype": "text/x-python",
   "name": "python",
   "nbconvert_exporter": "python",
   "pygments_lexer": "ipython3",
   "version": "3.10.9"
  }
 },
 "nbformat": 4,
 "nbformat_minor": 5
}
